{
 "cells": [
  {
   "cell_type": "markdown",
   "metadata": {},
   "source": [
    "Antonio Iorio s317748 `<s317748@studenti.polit.it>`\\\n",
    "[`https://github.com/antonioior/Computational_Intelligence.git`](https://github.com/antonioior/Computational_Intelligence.git)\\\n",
    "Development Lab 01 with Alessia Intini s309895   "
   ]
  },
  {
   "cell_type": "code",
   "execution_count": 1,
   "metadata": {},
   "outputs": [],
   "source": [
    "from random import random\n",
    "from functools import reduce\n",
    "from collections import namedtuple, deque\n",
    "from queue import PriorityQueue\n",
    "from math import ceil\n",
    "\n",
    "import numpy as np"
   ]
  },
  {
   "cell_type": "markdown",
   "metadata": {},
   "source": [
    "We have decided to use a fixed sets of value to campare the number of steps to resolve the set-covering across the 3 different h function. Because when we use a random values we can't compare the efficiency of the every h functions.\n",
    "The fixed sets used is: \n",
    "\n",
    "```python\n",
    "PROBLEM_SIZE = 10\n",
    "NUM_SETS = 20\n",
    "SETS = (np.array([False,  True, False,  True, False, False, False, False, False,\n",
    "       False]), np.array([ True,  True, False, False, False, False, False,  True, False,\n",
    "        True]), np.array([ True, False,  True, False,  True, False, False, False,  True,\n",
    "       False]), np.array([False,  True, False, False, False, False, False,  True, False,\n",
    "        True]), np.array([ True,  True,  True,  True, False, False, False,  True, False,\n",
    "       False]), np.array([False, False, False,  True, False, False, False, False, False,\n",
    "       False]), np.array([False, False, False, False, False, False,  True, False, False,\n",
    "       False]), np.array([ True, False,  True, False, False, False, False, False, False,\n",
    "       False]), np.array([False,  True,  True,  True,  True, False, False, False,  True,\n",
    "       False]), np.array([False, False, False, False, False, False, False, False, False,\n",
    "       False]), np.array([False, False,  True, False, False, False,  True, False, False,\n",
    "        True]), np.array([False,  True,  True, False, False,  True, False, False,  True,\n",
    "       False]), np.array([False, False,  True, False, False, False, False, False,  True,\n",
    "        True]), np.array([False, False,  True, False,  True, False, False, False, False,\n",
    "       False]), np.array([ True,  True,  True,  True, False, False,  True, False, False,\n",
    "        True]), np.array([False, False, False, False, False, False,  True, False, False,\n",
    "        True]), np.array([ True,  True,  True, False, False,  True, False, False, False,\n",
    "       False]), np.array([False,  True,  True, False, False, False, False, False,  True,\n",
    "       False]), np.array([ True,  True, False,  True, False, False,  True, False, False,\n",
    "       False]), np.array([False, False, False,  True, False, False,  True,  True, False,\n",
    "        True]))\n",
    "```"
   ]
  },
  {
   "cell_type": "code",
   "execution_count": 2,
   "metadata": {},
   "outputs": [
    {
     "name": "stdout",
     "output_type": "stream",
     "text": [
      "(array([False, False, False, False, False,  True, False,  True, False,\n",
      "        True,  True, False, False,  True,  True,  True, False,  True,\n",
      "       False, False]), array([ True, False, False, False, False,  True, False, False, False,\n",
      "        True, False,  True, False,  True,  True, False,  True,  True,\n",
      "        True, False]), array([False,  True, False, False,  True, False, False, False, False,\n",
      "       False,  True, False, False, False, False, False, False,  True,\n",
      "       False,  True]), array([False, False, False, False, False, False, False, False, False,\n",
      "       False,  True, False, False, False, False, False, False, False,\n",
      "       False, False]), array([ True, False,  True,  True, False,  True,  True, False,  True,\n",
      "       False, False,  True,  True, False, False,  True, False, False,\n",
      "       False, False]), array([False,  True,  True,  True, False,  True,  True, False, False,\n",
      "        True, False,  True,  True, False,  True, False,  True,  True,\n",
      "       False, False]), array([False, False, False, False, False, False, False,  True, False,\n",
      "        True,  True, False,  True, False, False, False, False, False,\n",
      "        True, False]), array([False,  True, False, False, False,  True, False, False, False,\n",
      "        True, False, False, False, False,  True,  True,  True,  True,\n",
      "       False, False]), array([ True, False,  True, False, False,  True, False, False, False,\n",
      "        True, False, False,  True, False,  True, False, False, False,\n",
      "        True, False]), array([False, False, False, False,  True, False,  True, False, False,\n",
      "       False,  True, False, False,  True,  True, False,  True, False,\n",
      "        True, False]), array([False, False,  True,  True, False,  True, False, False,  True,\n",
      "       False, False, False, False,  True, False, False,  True, False,\n",
      "       False, False]), array([False, False,  True,  True, False,  True, False,  True, False,\n",
      "       False, False, False, False, False, False, False, False, False,\n",
      "       False, False]), array([False, False,  True, False, False, False,  True, False, False,\n",
      "        True, False,  True, False, False, False, False, False,  True,\n",
      "       False,  True]), array([False, False,  True, False, False,  True, False, False,  True,\n",
      "       False,  True,  True, False, False,  True,  True, False, False,\n",
      "       False, False]), array([False,  True,  True, False, False, False, False, False, False,\n",
      "        True,  True,  True, False, False,  True, False,  True, False,\n",
      "        True,  True]), array([ True, False,  True,  True, False,  True, False,  True, False,\n",
      "        True, False, False, False, False, False, False, False,  True,\n",
      "       False, False]), array([False,  True, False,  True, False,  True,  True, False,  True,\n",
      "       False, False, False, False, False, False, False, False,  True,\n",
      "        True, False]), array([False, False,  True, False,  True, False, False, False, False,\n",
      "       False, False,  True, False, False,  True, False, False, False,\n",
      "       False, False]), array([False,  True, False, False, False, False, False, False, False,\n",
      "       False,  True, False, False,  True,  True, False,  True,  True,\n",
      "       False, False]), array([False, False, False, False, False,  True, False, False, False,\n",
      "        True, False, False, False, False,  True,  True,  True,  True,\n",
      "        True, False]), array([False, False, False, False,  True, False, False, False, False,\n",
      "       False,  True, False, False,  True, False,  True, False, False,\n",
      "       False, False]), array([False,  True, False,  True, False, False, False, False, False,\n",
      "       False, False, False, False, False,  True, False, False, False,\n",
      "       False,  True]), array([ True, False,  True, False, False, False, False,  True,  True,\n",
      "        True, False, False, False,  True, False,  True, False, False,\n",
      "       False, False]), array([False,  True,  True, False, False,  True, False, False, False,\n",
      "       False, False, False, False, False, False,  True, False, False,\n",
      "        True, False]), array([ True, False, False, False, False, False, False, False, False,\n",
      "        True, False, False,  True, False, False, False,  True, False,\n",
      "        True,  True]), array([False, False,  True, False, False, False, False,  True, False,\n",
      "       False, False, False, False, False,  True, False, False, False,\n",
      "       False, False]), array([ True, False, False, False, False, False, False, False,  True,\n",
      "       False,  True,  True,  True, False, False, False, False, False,\n",
      "       False, False]), array([False, False, False, False, False, False,  True, False,  True,\n",
      "       False, False,  True,  True,  True, False, False, False,  True,\n",
      "       False, False]), array([False, False,  True, False, False, False, False, False, False,\n",
      "       False,  True,  True, False, False, False, False,  True, False,\n",
      "       False, False]), array([False, False, False,  True, False, False, False,  True,  True,\n",
      "       False, False,  True,  True,  True,  True, False, False, False,\n",
      "       False,  True]), array([ True, False, False,  True, False,  True, False,  True, False,\n",
      "       False, False, False, False, False, False, False, False, False,\n",
      "       False, False]), array([ True, False, False,  True, False, False, False, False, False,\n",
      "        True, False, False, False,  True, False, False, False, False,\n",
      "       False,  True]), array([False, False, False, False, False, False,  True, False, False,\n",
      "        True, False, False, False, False, False, False, False, False,\n",
      "        True, False]), array([False,  True, False, False, False, False, False, False, False,\n",
      "       False, False, False,  True,  True, False, False, False,  True,\n",
      "       False, False]), array([False,  True, False, False, False, False, False, False, False,\n",
      "       False, False,  True, False, False,  True, False, False, False,\n",
      "       False, False]), array([False, False, False, False, False,  True,  True, False, False,\n",
      "        True, False, False, False, False, False, False, False,  True,\n",
      "       False,  True]), array([ True, False,  True, False, False,  True, False,  True,  True,\n",
      "       False, False, False,  True, False, False,  True, False, False,\n",
      "       False, False]), array([False,  True, False, False, False, False, False, False, False,\n",
      "        True,  True, False, False, False, False, False,  True, False,\n",
      "        True, False]), array([ True, False,  True,  True,  True, False, False, False, False,\n",
      "       False,  True, False, False, False, False,  True, False,  True,\n",
      "        True, False]), array([False,  True, False,  True, False, False, False, False, False,\n",
      "       False,  True,  True, False, False, False, False, False, False,\n",
      "       False, False]), array([False, False, False,  True,  True,  True, False, False,  True,\n",
      "       False, False, False, False, False,  True, False,  True, False,\n",
      "       False, False]), array([ True, False,  True,  True, False, False, False,  True, False,\n",
      "       False,  True, False, False, False, False,  True, False,  True,\n",
      "       False, False]), array([ True, False, False,  True,  True, False,  True,  True,  True,\n",
      "       False,  True, False,  True,  True, False,  True, False, False,\n",
      "        True,  True]), array([False, False,  True, False,  True,  True, False, False,  True,\n",
      "       False, False, False, False, False,  True, False, False,  True,\n",
      "        True,  True]), array([ True, False, False, False,  True,  True, False,  True,  True,\n",
      "       False, False, False,  True, False, False,  True, False, False,\n",
      "        True, False]), array([False, False, False, False,  True,  True,  True, False, False,\n",
      "       False,  True, False, False, False,  True, False,  True, False,\n",
      "        True, False]), array([False,  True, False, False,  True,  True,  True, False, False,\n",
      "       False, False,  True,  True, False, False,  True, False,  True,\n",
      "       False, False]), array([False, False,  True, False,  True, False, False, False, False,\n",
      "       False, False, False, False, False, False, False,  True, False,\n",
      "       False,  True]), array([False, False,  True,  True, False, False, False, False, False,\n",
      "        True, False, False, False, False, False,  True,  True, False,\n",
      "        True,  True]), array([False, False, False, False, False, False, False, False, False,\n",
      "       False, False, False, False, False, False, False, False,  True,\n",
      "       False, False]))\n"
     ]
    }
   ],
   "source": [
    "PROBLEM_SIZE = 20       #dimensione ogni elemento tupla\n",
    "NUM_SETS = 50           #numero di elementi della tupla\n",
    "SETS = tuple(\n",
    "    np.array([random() < 0.3 for _ in range(PROBLEM_SIZE)])\n",
    "    for _ in range(NUM_SETS)\n",
    ")\n",
    "# SETS = (np.array([False,  True, False,  True, False, False, False, False, False,\n",
    "#        False]), np.array([ True,  True, False, False, False, False, False,  True, False,\n",
    "#         True]), np.array([ True, False,  True, False,  True, False, False, False,  True,\n",
    "#        False]), np.array([False,  True, False, False, False, False, False,  True, False,\n",
    "#         True]), np.array([ True,  True,  True,  True, False, False, False,  True, False,\n",
    "#        False]), np.array([False, False, False,  True, False, False, False, False, False,\n",
    "#        False]), np.array([False, False, False, False, False, False,  True, False, False,\n",
    "#        False]), np.array([ True, False,  True, False, False, False, False, False, False,\n",
    "#        False]), np.array([False,  True,  True,  True,  True, False, False, False,  True,\n",
    "#        False]), np.array([False, False, False, False, False, False, False, False, False,\n",
    "#        False]), np.array([False, False,  True, False, False, False,  True, False, False,\n",
    "#         True]), np.array([False,  True,  True, False, False,  True, False, False,  True,\n",
    "#        False]), np.array([False, False,  True, False, False, False, False, False,  True,\n",
    "#         True]), np.array([False, False,  True, False,  True, False, False, False, False,\n",
    "#        False]), np.array([ True,  True,  True,  True, False, False,  True, False, False,\n",
    "#         True]), np.array([False, False, False, False, False, False,  True, False, False,\n",
    "#         True]), np.array([ True,  True,  True, False, False,  True, False, False, False,\n",
    "#        False]), np.array([False,  True,  True, False, False, False, False, False,  True,\n",
    "#        False]), np.array([ True,  True, False,  True, False, False,  True, False, False,\n",
    "#        False]), np.array([False, False, False,  True, False, False,  True,  True, False,\n",
    "#         True]))\n",
    "State = namedtuple('State', ['taken', 'not_taken'])\n",
    "print(SETS)"
   ]
  },
  {
   "cell_type": "code",
   "execution_count": 3,
   "metadata": {},
   "outputs": [],
   "source": [
    "def covered(state):\n",
    "    return reduce(\n",
    "        np.logical_or,\n",
    "        [SETS[i] for i in state.taken],\n",
    "        np.array([False for _ in range(PROBLEM_SIZE)]),\n",
    "    )\n",
    "\n",
    "\n",
    "def goal_check(state):\n",
    "    return np.all(covered(state))"
   ]
  },
  {
   "cell_type": "code",
   "execution_count": 4,
   "metadata": {},
   "outputs": [],
   "source": [
    "assert goal_check(\n",
    "    State(set(range(NUM_SETS)), set())\n",
    "), \"Probelm not solvable\""
   ]
  },
  {
   "cell_type": "code",
   "execution_count": 5,
   "metadata": {},
   "outputs": [],
   "source": [
    "def h1(state):\n",
    "    largest_set_size = max(sum(s) for s in SETS)\n",
    "    missing_size = PROBLEM_SIZE - sum(covered(state))\n",
    "    optimistic_estimate = ceil(missing_size / largest_set_size)\n",
    "    return optimistic_estimate\n",
    "\n",
    "\n",
    "def h2(state):\n",
    "    already_covered = covered(state)\n",
    "    if np.all(already_covered):\n",
    "        return 0\n",
    "    largest_set_size = max(sum(np.logical_and(s, np.logical_not(already_covered))) for s in SETS)\n",
    "    missing_size = PROBLEM_SIZE - sum(already_covered)\n",
    "    optimistic_estimate = ceil(missing_size / largest_set_size)\n",
    "    return optimistic_estimate\n",
    "\n",
    "\n",
    "def h3(state):\n",
    "    already_covered = covered(state)\n",
    "    if np.all(already_covered):\n",
    "        return 0\n",
    "    missing_size = PROBLEM_SIZE - sum(already_covered)\n",
    "    candidates = sorted((sum(np.logical_and(s, np.logical_not(already_covered))) for s in SETS), reverse=True)\n",
    "    taken = 1\n",
    "    while sum(candidates[:taken]) < missing_size:\n",
    "        taken += 1\n",
    "    return taken\n",
    "\n",
    "def distance(state):\n",
    "    return len(state.taken) + h3(state)"
   ]
  },
  {
   "cell_type": "markdown",
   "metadata": {},
   "source": [
    "Results of execution are:\n",
    " - h1 resolves it in 85 steps\n",
    " - h2 resolves it in 9 steps\n",
    " - h3 resolves it in 9 steps"
   ]
  },
  {
   "cell_type": "code",
   "execution_count": 6,
   "metadata": {},
   "outputs": [
    {
     "name": "stdout",
     "output_type": "stream",
     "text": [
      "Solved in 3 steps (2 tiles)\n"
     ]
    }
   ],
   "source": [
    "frontier = PriorityQueue()\n",
    "state = State(set(), set(range(NUM_SETS)))\n",
    "frontier.put((distance(state), state))\n",
    "\n",
    "counter = 0\n",
    "_, current_state = frontier.get()\n",
    "while not goal_check(current_state):\n",
    "    counter += 1\n",
    "    for action in current_state[1]:\n",
    "        new_state = State(\n",
    "            current_state.taken ^ {action},\n",
    "            current_state.not_taken ^ {action},\n",
    "        )\n",
    "        frontier.put((distance(new_state), new_state))\n",
    "    _, current_state = frontier.get()\n",
    "\n",
    "print(\n",
    "    f\"Solved in {counter:,} steps ({len(current_state.taken)} tiles)\"\n",
    ")"
   ]
  },
  {
   "cell_type": "code",
   "execution_count": 7,
   "metadata": {},
   "outputs": [
    {
     "data": {
      "text/plain": [
       "State(taken={42, 5}, not_taken={0, 1, 2, 3, 4, 6, 7, 8, 9, 10, 11, 12, 13, 14, 15, 16, 17, 18, 19, 20, 21, 22, 23, 24, 25, 26, 27, 28, 29, 30, 31, 32, 33, 34, 35, 36, 37, 38, 39, 40, 41, 43, 44, 45, 46, 47, 48, 49})"
      ]
     },
     "execution_count": 7,
     "metadata": {},
     "output_type": "execute_result"
    }
   ],
   "source": [
    "current_state"
   ]
  }
 ],
 "metadata": {
  "kernelspec": {
   "display_name": "ci-P-7LqQ3C-py3.11",
   "language": "python",
   "name": "python3"
  },
  "language_info": {
   "codemirror_mode": {
    "name": "ipython",
    "version": 3
   },
   "file_extension": ".py",
   "mimetype": "text/x-python",
   "name": "python",
   "nbconvert_exporter": "python",
   "pygments_lexer": "ipython3",
   "version": "3.11.5"
  }
 },
 "nbformat": 4,
 "nbformat_minor": 2
}
